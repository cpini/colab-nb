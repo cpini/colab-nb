{
  "cells": [
    {
      "cell_type": "markdown",
      "metadata": {
        "id": "QHa16b1bQ_np"
      },
      "source": [
        "# Vertex AI Vector Search - RAG Demo\n",
        "\n"
      ]
    },
    {
      "cell_type": "markdown",
      "metadata": {
        "id": "kQYJ6hXSm0HR"
      },
      "source": [
        "### Prerequisites\n",
        "\n",
        "This tutorial requires a Google Cloud project that is linked with a billing account. To create a new project, take a look at [this document](https://cloud.google.com/vertex-ai/docs/start/cloud-environment) to create a project and setup a billing account for it."
      ]
    },
    {
      "cell_type": "markdown",
      "metadata": {
        "id": "tC4i08xh5lQw"
      },
      "source": [
        "### Choose the runtime environment\n",
        "\n",
        "This tutorial can be run on either Google Colab or [Vertex AI Workbench](https://cloud.google.com/vertex-ai-workbench).\n",
        "\n",
        "- To use Colab: Click [this link](https://colab.research.google.com/github/GoogleCloudPlatform/generative-ai/blob/main/embeddings/vector-search-quickstart.ipynb) to open the tutorial in Colab.\n",
        "\n",
        "- To use Workbench: If it is the first time to use Workbench in your Google Cloud project, open [the Workbench console](https://console.cloud.google.com/vertex-ai/workbench) and click ENABLE button to enable Notebooks API. The click [this link](https://console.cloud.google.com/vertex-ai/workbench/deploy-notebook?download_url=https://raw.githubusercontent.com/GoogleCloudPlatform/generative-ai/main/embeddings/vector-search-quickstart.ipynb),  and select an existing notebook or create a new notebook.\n"
      ]
    },
    {
      "cell_type": "markdown",
      "metadata": {
        "id": "JVwslLQxnAdK"
      },
      "source": [
        "### How much will this cost?\n",
        "\n",
        "To go through this tutorial, it will cost roughly a few US dollars. The pricing of the Cloud services we will use in this tutorial are available in the following pages:\n",
        "\n",
        "- [Vertex AI Embeddings for Text](https://cloud.google.com/vertex-ai/pricing#generative_ai_models)\n",
        "- [Vertex AI Vector Search](https://cloud.google.com/vertex-ai/pricing#matchingengine)\n",
        "- [Vertex AI Workbench](https://cloud.google.com/vertex-ai/pricing#notebooks) if you use one\n",
        "\n",
        "You can use the [Pricing Calculator](https://cloud.google.com/products/calculator) to generate a cost estimate based on your projected usage.\n",
        "\n",
        "### **Warning: delete your objects after the tutorial**\n",
        "\n",
        "In case you are using your own Cloud project, please make sure to delete all the Indexes and Index Endpoints (and the Workbench instance if you use one) after finishing this tutorial. Otherwise the remaining assets would incur unexpected costs.\n"
      ]
    },
    {
      "cell_type": "markdown",
      "metadata": {
        "id": "k9uyNwTISc9u"
      },
      "source": [
        "## Setup\n",
        "\n",
        "Before get started with the Vertex AI services, we need to setup the following.\n",
        "\n",
        "* Install Python SDK\n",
        "* Environment variables\n",
        "* Authentication (Colab only)\n",
        "* Enable APIs\n",
        "* Set IAM permissions"
      ]
    },
    {
      "cell_type": "markdown",
      "metadata": {
        "id": "u8eMxpb6-0n4"
      },
      "source": [
        "### Install the Vertex AI SDK\n",
        "\n",
        "Vertex AI APIs can be accessed with multiple ways including REST API and Python SDK. In this tutorial we will use the SDK."
      ]
    },
    {
      "cell_type": "code",
      "execution_count": null,
      "metadata": {
        "id": "7hUF_94TRTPb",
        "outputId": "4652450a-de07-4b9c-d20d-0beb1431cb47",
        "colab": {
          "base_uri": "https://localhost:8080/"
        }
      },
      "outputs": [
        {
          "output_type": "stream",
          "name": "stdout",
          "text": [
            "\u001b[2K   \u001b[90m━━━━━━━━━━━━━━━━━━━━━━━━━━━━━━━━━━━━━━━━\u001b[0m \u001b[32m6.5/6.5 MB\u001b[0m \u001b[31m25.9 MB/s\u001b[0m eta \u001b[36m0:00:00\u001b[0m\n",
            "\u001b[?25h\u001b[33m  WARNING: The script tb-gcp-uploader is installed in '/root/.local/bin' which is not on PATH.\n",
            "  Consider adding this directory to PATH or, if you prefer to suppress this warning, use --no-warn-script-location.\u001b[0m\u001b[33m\n",
            "\u001b[0m"
          ]
        }
      ],
      "source": [
        "%pip install --upgrade --quiet --user google-cloud-aiplatform"
      ]
    },
    {
      "cell_type": "markdown",
      "metadata": {
        "id": "R5Xep4W9lq-Z"
      },
      "source": [
        "### Restart current runtime\n",
        "\n",
        "To use the newly installed packages in this Jupyter runtime, you must restart the runtime. You can do this by running the cell below, which will restart the current kernel.\n",
        "\n",
        "For Colab users: you will see \"Your session crushed\" message when restarting the kernel, but it is expected. Continue to the following cells."
      ]
    },
    {
      "cell_type": "code",
      "execution_count": 15,
      "metadata": {
        "id": "XRvKdaPDTznN",
        "colab": {
          "base_uri": "https://localhost:8080/"
        },
        "outputId": "416c9805-f311-43e5-e1a5-fe0329dffb57"
      },
      "outputs": [
        {
          "output_type": "execute_result",
          "data": {
            "text/plain": [
              "{'status': 'ok', 'restart': True}"
            ]
          },
          "metadata": {},
          "execution_count": 15
        }
      ],
      "source": [
        "# Restart kernel after installs so that your environment can access the new packages\n",
        "import IPython\n",
        "\n",
        "app = IPython.Application.instance()\n",
        "app.kernel.do_shutdown(True)"
      ]
    },
    {
      "cell_type": "markdown",
      "metadata": {
        "id": "SbmM4z7FOBpM"
      },
      "source": [
        "<div class=\"alert alert-block alert-warning\">\n",
        "<b>⚠️ The kernel is going to restart. In Colab or Colab Enterprise, you might see an error message that says \"Your session crashed for an unknown reason.\" This is expected. Please wait until it is finished before continuing to the next step. ⚠️</b>\n",
        "</div>\n"
      ]
    },
    {
      "cell_type": "markdown",
      "metadata": {
        "id": "QnKVMQ7coUGQ"
      },
      "source": [
        "### Environment variables\n",
        "\n",
        "Sets environment variables. If asked, replace the following `[your-project-id]` with your project ID and run it."
      ]
    },
    {
      "cell_type": "code",
      "execution_count": 1,
      "metadata": {
        "id": "HPfsNnW1e5mm",
        "outputId": "9ab9a8d7-7219-4503-889c-38d899f6c1cb",
        "colab": {
          "base_uri": "https://localhost:8080/"
        }
      },
      "outputs": [
        {
          "output_type": "stream",
          "name": "stdout",
          "text": [
            "Please set the project ID manually below\n"
          ]
        }
      ],
      "source": [
        "# get project ID\n",
        "PROJECT_ID = ! gcloud config get project\n",
        "PROJECT_ID = PROJECT_ID[0]\n",
        "LOCATION = \"us-central1\"\n",
        "if PROJECT_ID == \"(unset)\":\n",
        "    print(f\"Please set the project ID manually below\")"
      ]
    },
    {
      "cell_type": "code",
      "execution_count": 2,
      "metadata": {
        "id": "2C0lUcDGoW_x"
      },
      "outputs": [],
      "source": [
        "# define project information\n",
        "if PROJECT_ID == \"(unset)\":\n",
        "    PROJECT_ID = \"uk-con-gcp-sbx-ukat01-012822\"  # @param {type:\"string\"}\n",
        "\n",
        "# generate an unique id for this session\n",
        "from datetime import datetime\n",
        "\n",
        "UID = datetime.now().strftime(\"%m%d%H%M\")"
      ]
    },
    {
      "cell_type": "markdown",
      "metadata": {
        "id": "bLEgrr3ORwJH"
      },
      "source": [
        "### Authentication (Colab only)\n",
        "\n",
        "If you are running this notebook on Colab, you will need to run the following cell authentication. This step is not required if you are using Vertex AI Workbench as it is pre-authenticated."
      ]
    },
    {
      "cell_type": "code",
      "execution_count": 3,
      "metadata": {
        "id": "p9iGiaF7RgZs"
      },
      "outputs": [],
      "source": [
        "import sys\n",
        "\n",
        "# if it's Colab runtime, authenticate the user with Google Cloud\n",
        "if \"google.colab\" in sys.modules:\n",
        "    from google.colab import auth\n",
        "\n",
        "    auth.authenticate_user()"
      ]
    },
    {
      "cell_type": "markdown",
      "metadata": {
        "id": "HPd9NaBxn7ho"
      },
      "source": [
        "### Set IAM permissions\n",
        "\n",
        "Also, we need to add access permissions to the default service account for using those services.\n",
        "\n",
        "- Go to [the IAM page](https://console.cloud.google.com/iam-admin/) in the Console\n",
        "- Look for the principal for default compute service account. It should look like: `<project-number>-compute@developer.gserviceaccount.com`\n",
        "- Click the edit button at right and click `ADD ANOTHER ROLE` to add `Vertex AI User` and `Service Usage Admin` roles to the account.\n"
      ]
    },
    {
      "cell_type": "markdown",
      "metadata": {
        "id": "8hIbkmLEn2Z_"
      },
      "source": [
        "### Start"
      ]
    },
    {
      "cell_type": "code",
      "execution_count": 4,
      "metadata": {
        "id": "tX3TnUKubhT6"
      },
      "outputs": [],
      "source": [
        "from vertexai.preview import rag\n",
        "from vertexai.preview.generative_models import GenerativeModel, Tool\n",
        "import vertexai"
      ]
    },
    {
      "cell_type": "code",
      "source": [
        "vertexai.init(project=PROJECT_ID, location=LOCATION)"
      ],
      "metadata": {
        "id": "RivfdnfoYBWL"
      },
      "execution_count": 5,
      "outputs": []
    },
    {
      "cell_type": "code",
      "execution_count": 6,
      "metadata": {
        "id": "V7DbLI25bhT6"
      },
      "outputs": [],
      "source": [
        "# Get RagCorpus\n",
        "# Configure embedding model we're using text-embedding-004.\n",
        "embedding_model_config = rag.EmbeddingModelConfig(\n",
        "    publisher_model=\"publishers/google/models/text-embedding-004\"\n",
        ")\n"
      ]
    },
    {
      "cell_type": "code",
      "execution_count": 7,
      "metadata": {
        "id": "gg9CmJFQbhT6"
      },
      "outputs": [],
      "source": [
        "vector_search_index_name = \"projects/387845474414/locations/us-central1/indexes/4735425057017298944\"\n",
        "vector_search_index_endpoint_name = \"projects/387845474414/locations/us-central1/indexEndpoints/3200401271525736448\"\n",
        "display_name = \"test_corpus\"\n",
        "description = \"Corpus Description\"\n",
        "# Configure Vector DB\n",
        "vector_db = rag.VertexVectorSearch(\n",
        "    index=vector_search_index_name, index_endpoint=vector_search_index_endpoint_name\n",
        ")"
      ]
    },
    {
      "cell_type": "code",
      "source": [
        "# corpora = rag.list_corpora()\n",
        "# print(corpora)\n",
        "corpus = rag.create_corpus(\n",
        "    display_name=display_name,\n",
        "    description=description,\n",
        "    embedding_model_config=embedding_model_config,\n",
        "    vector_db=vector_db\n",
        ")"
      ],
      "metadata": {
        "id": "OFpd9OOgbQcl"
      },
      "execution_count": 8,
      "outputs": []
    },
    {
      "cell_type": "code",
      "source": [
        "paths = [\"gs://bank-product-rec\"]  # Supports Google Cloud Storage and Google Drive Links\n",
        "\n",
        "response = rag.import_files(\n",
        "    corpus_name=corpus.name,\n",
        "    paths=paths,\n",
        "    chunk_size=120,  # Optional\n",
        "    chunk_overlap=60,  # Optional\n",
        "    max_embedding_requests_per_min=900,  # Optional\n",
        ")\n",
        "print(f\"Imported {response.imported_rag_files_count} files.\")"
      ],
      "metadata": {
        "id": "zy9EjLR7MajL",
        "outputId": "cdbd4e67-c51d-455d-9e6d-425ffe11ed4c",
        "colab": {
          "base_uri": "https://localhost:8080/"
        }
      },
      "execution_count": 9,
      "outputs": [
        {
          "output_type": "stream",
          "name": "stdout",
          "text": [
            "Imported 1 files.\n"
          ]
        }
      ]
    },
    {
      "cell_type": "code",
      "source": [
        "# Enhance generation\n",
        "# Create a RAG retrieval tool\n",
        "rag_retrieval_tool = Tool.from_retrieval(\n",
        "    retrieval=rag.Retrieval(\n",
        "        source=rag.VertexRagStore(\n",
        "            rag_resources=[\n",
        "                rag.RagResource(\n",
        "                    rag_corpus=corpus.name,  # Currently only 1 corpus is allowed.\n",
        "                    # Optional: supply IDs from `rag.list_files()`.\n",
        "                    # rag_file_ids=[\"rag-file-1\", \"rag-file-2\", ...],\n",
        "                )\n",
        "            ],\n",
        "            similarity_top_k=3,  # Optional\n",
        "            vector_distance_threshold=0.5,  # Optional\n",
        "        ),\n",
        "    )\n",
        ")"
      ],
      "metadata": {
        "id": "eiBC1Zf6NUP8"
      },
      "execution_count": 10,
      "outputs": []
    },
    {
      "cell_type": "code",
      "source": [
        "# Create a gemini-pro model instance\n",
        "rag_model = GenerativeModel(\n",
        "    # model_name=\"gemini-1.5-flash-001\", tools=[rag_retrieval_tool]\n",
        "    model_name=\"gemini-1.5-pro-002\", tools=[rag_retrieval_tool]\n",
        ")\n"
      ],
      "metadata": {
        "id": "PCL0PtG_NqaA"
      },
      "execution_count": 11,
      "outputs": []
    },
    {
      "cell_type": "code",
      "source": [
        "# Generate response\n",
        "response = rag_model.generate_content(\"recommend a saving's account for an adult with tax free interest\")\n",
        "print(response.text)"
      ],
      "metadata": {
        "id": "zMVrqvK7N2EP",
        "outputId": "05c91da6-a0af-4df9-a0b3-01eba36e04ba",
        "colab": {
          "base_uri": "https://localhost:8080/"
        }
      },
      "execution_count": 12,
      "outputs": [
        {
          "output_type": "stream",
          "name": "stdout",
          "text": [
            "Consider a Cash ISA for tax-free interest on balances up to £20,000 with instant access, or a Fixed Rate ISA for tax-free interest on a lump sum for a fixed term of 1 or 2 years (minimum £1,000 deposit).\n",
            "\n"
          ]
        }
      ]
    },
    {
      "cell_type": "markdown",
      "source": [
        "##**Clean Up**\n",
        "\n",
        "In case you are using your own Cloud project, not a temporary project on Qwiklab, please make sure to delete all the Indexes and Index Endpoints after finishing this tutorial. Otherwise the remaining objects would incur unexpected costs."
      ],
      "metadata": {
        "id": "mPm6AxJ6SzNs"
      }
    },
    {
      "cell_type": "code",
      "source": [
        "#Get list of corpora\n",
        "corpora = rag.list_corpora()\n",
        "print(corpora)"
      ],
      "metadata": {
        "id": "sbF1RVSrS4Hs"
      },
      "execution_count": null,
      "outputs": []
    },
    {
      "cell_type": "code",
      "source": [
        "# delete corpus\n",
        "rag.delete_corpus(name=corpus_name)"
      ],
      "metadata": {
        "id": "YbzToQG4TL_U"
      },
      "execution_count": null,
      "outputs": []
    },
    {
      "cell_type": "code",
      "source": [
        "from google.cloud import aiplatform\n",
        "\n",
        "aiplatform.init(project=PROJECT_ID, location=LOCATION)"
      ],
      "metadata": {
        "id": "I2p3FE7iT4yf"
      },
      "execution_count": null,
      "outputs": []
    },
    {
      "cell_type": "code",
      "source": [
        "# delete index\n",
        "my_index_id = \"\"  # @param {type:\"string\"}\n",
        "my_index = aiplatform.MatchingEngineIndex(my_index_id)"
      ],
      "metadata": {
        "id": "ISdTZFZ-TVid"
      },
      "execution_count": null,
      "outputs": []
    },
    {
      "cell_type": "code",
      "source": [
        "# delete index endpoint\n",
        "my_index_endpoint_id = \"\"  # @param {type:\"string\"}\n",
        "my_index_endpoint = aiplatform.MatchingEngineIndexEndpoint(my_index_endpoint_id)"
      ],
      "metadata": {
        "id": "LNvM4RjoT-7D"
      },
      "execution_count": null,
      "outputs": []
    }
  ],
  "metadata": {
    "colab": {
      "name": "vertexai-with-rag-api.ipynb",
      "provenance": [],
      "toc_visible": true
    },
    "kernelspec": {
      "display_name": "Python 3",
      "name": "python3"
    }
  },
  "nbformat": 4,
  "nbformat_minor": 0
}